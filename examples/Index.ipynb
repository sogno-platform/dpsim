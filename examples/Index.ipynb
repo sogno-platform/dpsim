{
 "cells": [
  {
   "cell_type": "markdown",
   "metadata": {},
   "source": [
    "# DPsim\n",
    "\n",
    "DPsim is a real-time capable power system simulator that supports dynamic phasor and electromagnetic transient simulation as well as continuous powerflow. It primarily targets large-scale scenarios on commercial off-the-sheld hardware that require deterministic time steps in the range of micro- to milliseconds.\n",
    "\n",
    "DPsim supports the CIM format as native input for the description of electrical network topologies, component parameters and load flow data, which is used for initialization. For this purpose, CIM++ is integrated in DPsim. Users interact with the C++ simulation kernel via Python bindings, which can be used to script the execution, schedule events, change parameters and retrieve results. Supported by the availability of existing Python frameworks like Numpy, Pandas and Matplotlib, Python scripts have been proven as an easy and flexible way to codify the complete workflow of a simulation from modelling to analysis and plotting, for example in Jupyter notebooks.\n",
    "\n",
    "The DPsim simulation kernel is implemented in C++ and uses the Eigen linear algebra library. By using a system programming language like C++ and a highly optimized math library, optimal performance and real-time execution can be guaranteed. The integration into the VILLASframework allows DPsim to be used in large-scale co-simulations.\n",
    "\n",
    "## Examples\n",
    "\n",
    "Welcome to the examples collection of DPsim. These examples are a good way to start using DPsim. \\\n",
    "They cover DPsim's feature from [simple circuits](./Notebooks/Circuits/CS_R2CL.ipynb) and to more complex benchmarks models like the [IEEE/WSCC 9-bus system](./Notebooks/Grids/DP_WSCC9bus_SGTrStab_Switch.ipynb). \\\n",
    "A good place to start is the [Quickstart Guide](./Notebooks/Quickstart%20Guide.ipynb). Below you will find a list of representative examples.\n",
    "  - [Infinite bus system with Fault](./Notebooks/Circuits/DP_SP_SynGenTrStab_SMIB_Fault.ipynb) Shows how to implement the Kundur's SMIB system with a balanced fault from scratch and simulates it using Dynamic Phasors\n",
    "  - [Three bus system in steady state](./Notebooks/Circuits/DP_SP_SynGenTrStab_3Bus_SteadyState.ipynb) Shows how to implement a power system with multiple buses and generators from scratch and simulates it in dynamic steady state\n",
    "  - [Dynamic Simulation from CIM model](./Notebooks/Grids/DP_CIGRE_MV_withDG_withLoadStep.ipynb) Demonstrates how to implement a dynamic simulation by importing a grid model defined by the Common Information Model (CIM) specification\n",
    "  - [Power flow from MATPOWER model](./Notebooks/matpower-case9.ipynb) Demonstrates how to implement a power flow by importing a grid model defined in [MATPOWER](https://matpower.org/)\n",
    "\n",
    "## Project Website\n",
    "\n",
    "On our [project website](https://dpsim.fein-aachen.org/) you find links to the source code, documentation, published papers, licensing information and more.\n"
   ]
  },
  {
   "cell_type": "code",
   "execution_count": null,
   "metadata": {},
   "outputs": [],
   "source": []
  }
 ],
 "metadata": {
  "kernelspec": {
   "display_name": "Python 3 (ipykernel)",
   "language": "python",
   "name": "python3"
  },
  "language_info": {
   "codemirror_mode": {
    "name": "ipython",
    "version": 3
   },
   "file_extension": ".py",
   "mimetype": "text/x-python",
   "name": "python",
   "nbconvert_exporter": "python",
   "pygments_lexer": "ipython3",
   "version": "3.9.12"
  }
 },
 "nbformat": 4,
 "nbformat_minor": 4
}
