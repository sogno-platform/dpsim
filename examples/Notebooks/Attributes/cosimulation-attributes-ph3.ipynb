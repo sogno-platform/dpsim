{
 "cells": [
  {
   "attachments": {},
   "cell_type": "markdown",
   "metadata": {},
   "source": [
    "Weakly coupled Co-simulation\n",
    "================\n",
    "\n",
    "This guides shows how to implement a simplified weakly-coupled co-simulation in emtsim\n",
    "\n",
    "Test circuit\n",
    "--------------------\n",
    "\n",
    "As a first simple, test we will simulate a small static network. The network consists of 4 nodes and 4 elements:\n",
    "\n",
    "| Component | Type              | Python Class                              | Node A | Node B | Paramter |\n",
    "| :---------| :----             | :---------------------------------------- | :----- | :----- | :------- |\n",
    "| r_1       | Source resistance | `dpsimpy.emt.ph1.Resistor`                 | 0      | GND    | 0.1 Ohm  |\n",
    "| c_1       | Line capacitance  | `dpsimpy.emt.ph1.Capacitor`                | 0      | GND    | 1 Farad  |\n",
    "| c_2       | Line capacitance  | `dpsimpy.emt.ph1.Capacitor`                | 1      | GND    | 1 Farad  |\n",
    "| r_line    | Line resistance   | `dpsimpy.emt.ph1.Resistor`                 | 1      | 0      | 0.1 Ohm  |\n",
    "| r_load    | Load              | `dpsimpy.emt.ph1.Resistor`                 | 1      | GND    | 1 Ohm    |"
   ]
  },
  {
   "cell_type": "markdown",
   "metadata": {},
   "source": [
    "Before we can start, we must import the DPsim Python module.\n",
    "We also add `emt` as an alias for the dynamic phasor components."
   ]
  },
  {
   "cell_type": "code",
   "execution_count": null,
   "metadata": {},
   "outputs": [],
   "source": [
    "import dpsimpy\n",
    "import numpy as np"
   ]
  },
  {
   "cell_type": "markdown",
   "metadata": {},
   "source": [
    "Next, we can define the model by creating a couple of components.\n",
    "Each component is identified by a name which is passed as the first argument.\n",
    "Following arguments are used to define the topology by assigning the component to a specific node / bus or to pass parameters."
   ]
  },
  {
   "cell_type": "code",
   "execution_count": null,
   "metadata": {},
   "outputs": [],
   "source": [
    "num_vs = 1\n",
    "\n",
    "# Nodes\n",
    "gnd = dpsimpy.emt.SimNode.gnd\n",
    "\n",
    "if num_vs > 0:\n",
    "    n0 = dpsimpy.emt.SimNode(\"n0\", dpsimpy.PhaseType.ABC)\n",
    "\n",
    "if num_vs > 1:\n",
    "    n3 = dpsimpy.emt.SimNode(\"n3\", dpsimpy.PhaseType.ABC)\n",
    "\n",
    "n1  = dpsimpy.emt.SimNode(\"n1\", dpsimpy.PhaseType.ABC)\n",
    "n2  = dpsimpy.emt.SimNode(\"n2\", dpsimpy.PhaseType.ABC)\n",
    "\n",
    "if num_vs > 0:\n",
    "    v_s_1 = dpsimpy.emt.ph3.VoltageSource(\"v_s_1\")\n",
    "    if num_vs == 1:\n",
    "        v_s_1_peak = 1.0 * dpsimpy.PEAK1PH_TO_RMS3PH\n",
    "        v_s_1_c = complex(v_s_1_peak, 0)\n",
    "        v_s_1.set_parameters(V_ref=dpsimpy.Math.single_phase_variable_to_three_phase(v_s_1_c), f_src=50)\n",
    "    else:\n",
    "        v_s_1_peak = 2.0 * dpsimpy.PEAK1PH_TO_RMS3PH\n",
    "        v_s_1_c = complex(v_s_1_peak, 0)\n",
    "        v_s_1.set_parameters(V_ref=dpsimpy.Math.single_phase_variable_to_three_phase(v_s_1_c), f_src=50)\n",
    "\n",
    "if num_vs > 1:\n",
    "    v_s_2_peak = 1.0 * dpsimpy.PEAK1PH_TO_RMS3PH\n",
    "    v_s_2_phase = np.pi / 4.0\n",
    "\n",
    "    v_s_2_exp = v_s_2_peak*np.exp(1j*v_s_2_phase)\n",
    "\n",
    "    v_s_2 = dpsimpy.emt.ph3.VoltageSource(\"v_s_2\")\n",
    "    v_s_2_c = complex(np.real(v_s_2_exp), np.imag(v_s_2_exp))\n",
    "    v_s_2.set_parameters(V_ref=dpsimpy.Math.single_phase_variable_to_three_phase(v_s_2_c), f_src=50)\n",
    "\n",
    "r_1 = dpsimpy.emt.ph3.Resistor(\"r_1\")\n",
    "r_1.set_parameters(dpsimpy.Math.single_phase_parameter_to_three_phase(0.1))\n",
    "r_line = dpsimpy.emt.ph3.Resistor(\"r_line\")\n",
    "r_line.set_parameters(dpsimpy.Math.single_phase_parameter_to_three_phase(0.1))\n",
    "c_1 = dpsimpy.emt.ph3.Capacitor(\"c_1\")\n",
    "c_1.set_parameters(dpsimpy.Math.single_phase_parameter_to_three_phase(1))\n",
    "c_2 = dpsimpy.emt.ph3.Capacitor(\"c_2\")\n",
    "c_2.set_parameters(dpsimpy.Math.single_phase_parameter_to_three_phase(1))\n",
    "r_load = dpsimpy.emt.ph3.Resistor(\"r_load\")\n",
    "r_load.set_parameters(dpsimpy.Math.single_phase_parameter_to_three_phase(1))\n",
    "\n",
    "# Initial conditions\n",
    "if num_vs > 0:\n",
    "    n1.set_initial_voltage(0 * dpsimpy.PEAK1PH_TO_RMS3PH)\n",
    "    n2.set_initial_voltage(0 * dpsimpy.PEAK1PH_TO_RMS3PH)\n",
    "else:\n",
    "    n1.set_initial_voltage(5 * dpsimpy.PEAK1PH_TO_RMS3PH)\n",
    "    n2.set_initial_voltage(2 * dpsimpy.PEAK1PH_TO_RMS3PH)\n",
    "\n",
    "# Connections\n",
    "if num_vs > 0:\n",
    "    v_s_1.connect([gnd, n0])\n",
    "    r_1.connect([n0, n1])     \n",
    "else:\n",
    "    r_1.connect([n1, gnd])\n",
    "\n",
    "if num_vs > 1:\n",
    "    v_s_2.connect([gnd, n3])\n",
    "    r_load.connect([n2, n3])\n",
    "else:\n",
    "    r_load.connect([n2, gnd])\n",
    "    \n",
    "r_line.connect([n2, n1])\n",
    "c_1.connect([n1, gnd])\n",
    "c_2.connect([n2, gnd])"
   ]
  },
  {
   "cell_type": "markdown",
   "metadata": {},
   "source": [
    "Next, we have to create a simulation object:"
   ]
  },
  {
   "cell_type": "code",
   "execution_count": null,
   "metadata": {},
   "outputs": [],
   "source": [
    "if num_vs == 1:\n",
    "    sys = dpsimpy.SystemTopology(50, [ gnd, n0, n1, n2 ], [ v_s_1, r_1, r_line, c_1, c_2, r_load ])\n",
    "elif num_vs == 2:\n",
    "    sys = dpsimpy.SystemTopology(50, [ gnd, n0, n1, n2, n3 ], [ v_s_1, r_1, r_line, c_1, c_2, r_load, v_s_2 ])\n",
    "else:\n",
    "    sys = dpsimpy.SystemTopology(50, [ gnd, n1, n2 ], [ r_1, r_line, c_1, c_2, r_load ])"
   ]
  },
  {
   "cell_type": "markdown",
   "metadata": {},
   "source": [
    "We can also visualize the system topology:"
   ]
  },
  {
   "cell_type": "code",
   "execution_count": null,
   "metadata": {},
   "outputs": [],
   "source": [
    "sys"
   ]
  },
  {
   "cell_type": "markdown",
   "metadata": {},
   "source": [
    "Finally, we can start the simulation and wait for its completion:"
   ]
  },
  {
   "cell_type": "code",
   "execution_count": null,
   "metadata": {},
   "outputs": [],
   "source": [
    "time_step = 50e-6\n",
    "final_time = 1.2\n",
    "\n",
    "sim = dpsimpy.Simulation(\"EMTCosim_Ph3\", loglevel=dpsimpy.LogLevel.debug)\n",
    "sim.set_domain(dpsimpy.Domain.EMT)\n",
    "sim.set_system(sys)\n",
    "sim.set_time_step(time_step)\n",
    "sim.set_final_time(final_time)\n",
    "\n",
    "log = dpsimpy.Logger(\"EMTCosim_Ph3\")\n",
    "\n",
    "if num_vs > 0:\n",
    "    log.log_attribute(\"v0\", \"v\", sys.node(\"n0\"))\n",
    "    if num_vs > 1:\n",
    "        log.log_attribute(\"v3\", \"v\", sys.node(\"n3\"))\n",
    "log.log_attribute(\"v1\", \"v\", sys.node(\"n1\"))\n",
    "log.log_attribute(\"v2\", \"v\", sys.node(\"n2\"))\n",
    "log.log_attribute(\"r_line.I\", \"i_intf\", sys.component(\"r_line\"))\n",
    "\n",
    "sim.add_logger(log)\n",
    "    \n",
    "sim.run()"
   ]
  },
  {
   "cell_type": "markdown",
   "metadata": {},
   "source": [
    "Next, we run the co-simulation"
   ]
  },
  {
   "cell_type": "code",
   "execution_count": null,
   "metadata": {},
   "outputs": [],
   "source": [
    "import subprocess\n",
    "import numpy as np\n",
    "\n",
    "H_v = np.array([1e-4, 2e-4, 4e-4, 0.001, 0.003, 0.01])\n",
    "H_v_legends = ['1e-4', '2e-4', '4e-4', '1e-3', '3e-3', '1e-2']\n",
    "\n",
    "# H_v = [0.2e-3]\n",
    "# H_v_legends = ['0.2e-3']\n",
    "\n",
    "i=0\n",
    "for H in H_v:\n",
    "    process1 = subprocess.Popen([\"python3\", \"../../Python/Attributes/emt-cosim-attributes_polynomial-ph3.py\", \"-t\", str(time_step), \"-e\", str(final_time), \"-H\", str(H), \"-i\", \"zoh\", \"-p\", \"EMTCosimAttributes_zoh_\" + H_v_legends[i], \"--num-vs\", str(num_vs)], stdout=subprocess.PIPE, stderr=subprocess.STDOUT)\n",
    "    output1, error1 = process1.communicate()\n",
    "    process2 = subprocess.Popen([\"python3\", \"../../Python/Attributes/emt-cosim-attributes_polynomial-ph3.py\", \"-t\", str(time_step), \"-e\", str(final_time), \"-H\", str(H), \"-i\", \"linear\", \"-p\", \"EMTCosimAttributes_linear_\" + H_v_legends[i], \"--num-vs\", str(num_vs)], stdout=subprocess.PIPE, stderr=subprocess.STDOUT)\n",
    "    output2, error2 = process2.communicate()\n",
    "    process3 = subprocess.Popen([\"python3\", \"../../Python/Attributes/emt-cosim-attributes_polynomial-ph3.py\", \"-t\", str(time_step), \"-e\", str(final_time), \"-H\", str(H), \"-i\", \"none\", \"-p\", \"EMTCosimAttributes_no_extrap_\" + H_v_legends[i], \"--num-vs\", str(num_vs)], stdout=subprocess.PIPE, stderr=subprocess.STDOUT)\n",
    "    output3, error3 = process3.communicate()\n",
    "\n",
    "    # Print output and error for debugging\n",
    "    print(\"Output 1:\", output1)\n",
    "    print(\"Error 1:\", error1)\n",
    "    print(\"Output 2:\", output2)\n",
    "    print(\"Error 2:\", error2)\n",
    "    print(\"Output 3:\", output3)\n",
    "    print(\"Error 3:\", error3)\n",
    "\n",
    "    # Check return codes\n",
    "    # assert process1.returncode == 0, f\"Subprocess 1 failed for H = {H}\"\n",
    "    # assert process2.returncode == 0, f\"Subprocess 2 failed for H = {H}\"\n",
    "\n",
    "    i+=1\n"
   ]
  },
  {
   "cell_type": "markdown",
   "metadata": {},
   "source": [
    "Results can be analyzed and plotted by the `villas.dataprocessing` package:"
   ]
  },
  {
   "cell_type": "code",
   "execution_count": null,
   "metadata": {},
   "outputs": [],
   "source": [
    "%matplotlib inline\n",
    "%config InlineBackend.figure_format = 'svg'\n",
    "%config InlineBackend.rc = {'font.size': 10, 'figure.figsize': (6.0, 4.0), 'figure.facecolor': 'white', 'savefig.dpi': 72, 'figure.subplot.bottom': 0.125, 'figure.edgecolor': 'white'}\n",
    "\n",
    "import matplotlib.pyplot as plt\n",
    "import villas.dataprocessing.plottools as pt\n",
    "import villas.dataprocessing.readtools as rt\n",
    "import villas.dataprocessing.timeseries as ts\n",
    "# %matplotlib widget\n",
    "\n",
    "# results_emt = rt.read_timeseries_dpsim('logs/EMTCosim.csv')\n",
    "results_emt_ph3 = rt.read_timeseries_dpsim('logs/EMTCosim_Ph3.csv')\n",
    "\n",
    "results_emt_attributes_no_extrap_S1_ph3 = {}\n",
    "for H_v_leg in H_v_legends:\n",
    "    results_emt_attributes_no_extrap_S1_ph3[H_v_leg] = rt.read_timeseries_dpsim('logs/EMTCosimAttributes_no_extrap_' + H_v_leg + '_S1_ph3/S1_ph3.csv')\n",
    "\n",
    "results_emt_attributes_no_extrap_S2_ph3 = {}\n",
    "for H_v_leg in H_v_legends:\n",
    "    results_emt_attributes_no_extrap_S2_ph3[H_v_leg] = rt.read_timeseries_dpsim('logs/EMTCosimAttributes_no_extrap_' + H_v_leg + '_S2_ph3/S2_ph3.csv')\n",
    "\n",
    "results_emt_attributes_zoh_S1_ph3 = {}\n",
    "for H_v_leg in H_v_legends:\n",
    "    results_emt_attributes_zoh_S1_ph3[H_v_leg] = rt.read_timeseries_dpsim('logs/EMTCosimAttributes_zoh_' + H_v_leg + '_S1_ph3/S1_ph3.csv')\n",
    "\n",
    "results_emt_attributes_zoh_S2_ph3 = {}\n",
    "for H_v_leg in H_v_legends:\n",
    "    results_emt_attributes_zoh_S2_ph3[H_v_leg] = rt.read_timeseries_dpsim('logs/EMTCosimAttributes_zoh_' + H_v_leg + '_S2_ph3/S2_ph3.csv')\n",
    "\n",
    "results_emt_attributes_linear_S1_ph3 = {}\n",
    "for H_v_leg in H_v_legends:\n",
    "    results_emt_attributes_linear_S1_ph3[H_v_leg] = rt.read_timeseries_dpsim('logs/EMTCosimAttributes_linear_' + H_v_leg + '_S1_ph3/S1_ph3.csv')\n",
    "\n",
    "results_emt_attributes_linear_S2_ph3 = {}\n",
    "for H_v_leg in H_v_legends:\n",
    "    results_emt_attributes_linear_S2_ph3[H_v_leg] = rt.read_timeseries_dpsim('logs/EMTCosimAttributes_linear_' + H_v_leg + '_S2_ph3/S2_ph3.csv')\n"
   ]
  },
  {
   "cell_type": "markdown",
   "metadata": {},
   "source": [
    "### Comparison against ph1"
   ]
  },
  {
   "cell_type": "code",
   "execution_count": null,
   "metadata": {},
   "outputs": [],
   "source": [
    "# if num_vs > 0:\n",
    "#     pt.set_timeseries_labels(results_emt['v0'], 'v_0')\n",
    "#     pt.plot_timeseries('Monolithic simulation results - v_src', results_emt['v0'])\n",
    "#     pt.set_timeseries_labels(results_emt_ph3['v0_0'], 'v_0 - 3-phase')\n",
    "#     pt.plot_timeseries('Monolithic simulation results - v_src', results_emt_ph3['v0_0'], '--')\n",
    "#     plt.xlabel('t [s]')\n",
    "#     plt.ylabel('Voltage [V]')\n",
    "#     plt.grid()\n",
    "#     plt.show()\n",
    "\n",
    "#     if num_vs > 1:\n",
    "#         pt.set_timeseries_labels(results_emt['v3'], 'v_3')\n",
    "#         pt.plot_timeseries('Monolithic simulation results - v_src', results_emt['v3'])\n",
    "#         pt.set_timeseries_labels(results_emt_ph3['v3_0'], 'v_3 - 3-phase')\n",
    "#         pt.plot_timeseries('Monolithic simulation results - v_src', results_emt_ph3['v3_0'], '--')\n",
    "\n",
    "# pt.set_timeseries_labels(results_emt['v1'], 'v_1')\n",
    "# pt.plot_timeseries('Monolithic simulation results - v_1', results_emt['v1'])\n",
    "# pt.set_timeseries_labels(results_emt_ph3['v1_0'], 'v_1 - 3-phase')\n",
    "# pt.plot_timeseries('Monolithic simulation results - v_1', results_emt_ph3['v1_0'], '--')\n",
    "# plt.xlabel('t [s]')\n",
    "# plt.ylabel('Voltage [V]')\n",
    "# plt.grid()\n",
    "# plt.show()\n",
    "\n",
    "# pt.set_timeseries_labels(results_emt['v2'], 'v_2')\n",
    "# pt.plot_timeseries('Monolithic simulation results - v_2', results_emt['v2'])\n",
    "# plt.xlabel('t [s]')\n",
    "# plt.ylabel('Voltage [V]')\n",
    "# plt.grid()\n",
    "\n",
    "# pt.set_timeseries_labels(results_emt['r_line.I'], 'i_rline')\n",
    "# pt.plot_timeseries('Monolithic simulation results - i_intf', results_emt['r_line.I'])\n",
    "\n",
    "# pt.set_timeseries_labels(results_emt_ph3['v2_0'], 'v_2 - 3-phase')\n",
    "# pt.plot_timeseries('Monolithic simulation results - v_2', results_emt_ph3['v2_0'], '--')\n",
    "\n",
    "# pt.set_timeseries_labels(results_emt_ph3['r_line.I_0'], 'i_rline - 3-phase')\n",
    "# pt.plot_timeseries('Monolithic simulation results - i_intf', results_emt_ph3['r_line.I_0'], '--')\n",
    "# plt.xlabel('t [s]')\n",
    "# plt.ylabel('Current [A]')\n",
    "# plt.grid()\n",
    "# plt.show()"
   ]
  },
  {
   "cell_type": "markdown",
   "metadata": {},
   "source": [
    "### Co-simulation results without extrapolation"
   ]
  },
  {
   "cell_type": "code",
   "execution_count": null,
   "metadata": {},
   "outputs": [],
   "source": [
    "pt.set_timeseries_labels(results_emt_ph3['v2_0'], 'v_2 - Monolithic')\n",
    "pt.plot_timeseries('Co-simulation results - v_intf - no extrap.', results_emt_ph3['v2_0'])\n",
    "plt.xlabel('t [s]')\n",
    "plt.ylabel('Interface voltage [V]')\n",
    "plt.grid()\n",
    "\n",
    "pt.set_timeseries_labels(results_emt_ph3['r_line.I_0'], 'i_rline - Monolithic')\n",
    "pt.plot_timeseries('Co-simulation results - i_intf - no extrap.', results_emt_ph3['r_line.I_0'])\n",
    "\n",
    "for k, results_att_list in results_emt_attributes_no_extrap_S1_ph3.items():\n",
    "    pt.set_timeseries_labels(results_att_list['v_intf_0'], 'v_intf - S_1, no extrap.')\n",
    "    pt.plot_timeseries('Co-simulation results - v_intf - no extrap.', results_att_list['v_intf_0'], '--')\n",
    "\n",
    "    # pt.set_timeseries_labels(results_att_list['v_ref_0'], 'v_ref - S_1, no extrap.')\n",
    "    # pt.plot_timeseries('Co-simulation results - v_intf - no extrap.', results_att_list['v_ref_0'], ':')\n",
    "    \n",
    "    pt.set_timeseries_labels(results_att_list['i_intf_0'], 'i_intf - S_1, no extrap.')\n",
    "    pt.plot_timeseries('Co-simulation results - i_intf - no extrap.', results_att_list['i_intf_0'], '--')\n",
    "\n",
    "for k, results_att_list in results_emt_attributes_no_extrap_S2_ph3.items():\n",
    "    pt.set_timeseries_labels(results_att_list['v_intf_0'], 'v_intf - S_2, no extrap.')\n",
    "    pt.plot_timeseries('Co-simulation results - v_intf - no extrap.', results_att_list['v_intf_0'], '-.')\n",
    "    \n",
    "    pt.set_timeseries_labels(results_att_list['i_intf_0'], 'i_intf - S_2, no extrap.')\n",
    "    pt.plot_timeseries('Co-simulation results - i_intf - no extrap.', results_att_list['i_intf_0'], '-.')\n",
    "\n",
    "    # pt.set_timeseries_labels(results_att_list['i_ref_0'], 'i_ref - S_2, no extrap.')\n",
    "    # pt.plot_timeseries('Co-simulation results - i_intf - no extrap.', results_att_list['i_ref_0'], ':')\n",
    "\n",
    "plt.xlabel('t [s]')\n",
    "plt.ylabel('Interface current [A]')\n",
    "plt.grid()\n",
    "plt.show()"
   ]
  },
  {
   "cell_type": "markdown",
   "metadata": {},
   "source": [
    "### Co-simulation results with ZOH extrapolation"
   ]
  },
  {
   "cell_type": "code",
   "execution_count": null,
   "metadata": {},
   "outputs": [],
   "source": [
    "\n",
    "pt.set_timeseries_labels(results_emt_ph3['v2_0'], 'v_2 - Monolithic')\n",
    "pt.plot_timeseries('Co-simulation results - v_intf - ZOH', results_emt_ph3['v2_0'])\n",
    "plt.xlabel('t [s]')\n",
    "plt.ylabel('Interface voltage')\n",
    "plt.grid()\n",
    "pt.set_timeseries_labels(results_emt_ph3['v1_0'], 'v_1 - Monolithic')\n",
    "pt.plot_timeseries('Co-simulation results - v_1 - ZOH', results_emt_ph3['v1_0'])\n",
    "plt.xlabel('t [s]')\n",
    "plt.ylabel('Interface voltage')\n",
    "plt.grid()\n",
    "\n",
    "pt.set_timeseries_labels(results_emt_ph3['r_line.I_0'], 'i_rline - Monolithic')\n",
    "pt.plot_timeseries('Co-simulation results - i_intf - ZOH', results_emt_ph3['r_line.I_0'])\n",
    "\n",
    "for k, results_att_list in results_emt_attributes_zoh_S1_ph3.items():\n",
    "    # pt.set_timeseries_labels(results_att_list['v1'], results_att_list['v1'].label + ' - S_1')\n",
    "    # pt.plot_timeseries('Co-simulation results - V1', results_att_list['v1'], '--')\n",
    "\n",
    "    pt.set_timeseries_labels(results_att_list['v_intf_0'], 'v_intf - S_1, ZOH')\n",
    "    pt.plot_timeseries('Co-simulation results - v_intf - ZOH', results_att_list['v_intf_0'], '--')\n",
    "\n",
    "    pt.set_timeseries_labels(results_att_list['v_ref_0'], 'v_ref - S_1, ZOH')\n",
    "    # pt.plot_timeseries('Co-simulation results - v_intf - ZOH', results_att_list['v_ref_0'], ':')\n",
    "    \n",
    "    pt.set_timeseries_labels(results_att_list['i_intf_0'], 'i_intf - S_1, ZOH')\n",
    "    pt.plot_timeseries('Co-simulation results - i_intf - ZOH', results_att_list['i_intf_0'], '--')\n",
    "\n",
    "for k, results_att_list in results_emt_attributes_zoh_S2_ph3.items():\n",
    "    pt.set_timeseries_labels(results_att_list['v_intf_0'], 'v_intf - S_2, ZOH')\n",
    "    pt.plot_timeseries('Co-simulation results - v_intf - ZOH', results_att_list['v_intf_0'], '-.')\n",
    "    \n",
    "    pt.set_timeseries_labels(results_att_list['i_intf_0'], 'i_intf - S_2, ZOH')\n",
    "    pt.plot_timeseries('Co-simulation results - i_intf - ZOH', results_att_list['i_intf_0'], '-.')\n",
    "\n",
    "    pt.set_timeseries_labels(results_att_list['i_ref_0'], 'i_ref - S_2, ZOH')\n",
    "    # pt.plot_timeseries('Co-simulation results - i_intf - ZOH', results_att_list['i_ref_0'], ':')\n",
    "\n",
    "plt.xlabel('t [s]')\n",
    "plt.ylabel('Interface current')\n",
    "plt.grid()\n",
    "plt.show()"
   ]
  },
  {
   "cell_type": "markdown",
   "metadata": {},
   "source": [
    "### Co-simulation results with linear extrapolation"
   ]
  },
  {
   "cell_type": "code",
   "execution_count": null,
   "metadata": {},
   "outputs": [],
   "source": [
    "pt.set_timeseries_labels(results_emt_ph3['v2_0'], 'v_2 - Monolithic - 3-phase')\n",
    "pt.plot_timeseries('Co-simulation results - v_intf - linear', results_emt_ph3['v2_0'])\n",
    "plt.xlabel('t [s]')\n",
    "plt.ylabel('Interface voltage')\n",
    "plt.grid()\n",
    "\n",
    "pt.set_timeseries_labels(results_emt_ph3['r_line.I_0'], 'i_rline - Monolithic - 3-phase')\n",
    "pt.plot_timeseries('Co-simulation results - i_intf - linear', results_emt_ph3['r_line.I_0'])\n",
    "\n",
    "for k, results_att_list in results_emt_attributes_linear_S1_ph3.items():\n",
    "    pt.set_timeseries_labels(results_att_list['v_intf_0'], 'v_intf - S_1, linear')\n",
    "    pt.plot_timeseries('Co-simulation results - v_intf - linear', results_att_list['v_intf_0'], '--')\n",
    "\n",
    "    pt.set_timeseries_labels(results_att_list['v_ref_0'], 'v_ref - S_1, linear')\n",
    "    # pt.plot_timeseries('Co-simulation results - v_intf - linear', results_att_list['v_ref_0'], ':')\n",
    "    \n",
    "    pt.set_timeseries_labels(results_att_list['i_intf_0'], 'i_intf - S_1, linear')\n",
    "    pt.plot_timeseries('Co-simulation results - i_intf - linear', results_att_list['i_intf_0'], '--')\n",
    "\n",
    "for k, results_att_list in results_emt_attributes_linear_S2_ph3.items():\n",
    "    pt.set_timeseries_labels(results_att_list['v_intf_0'], 'v_intf - S_2, linear')\n",
    "    pt.plot_timeseries('Co-simulation results - v_intf - linear', results_att_list['v_intf_0'], '-.')\n",
    "    \n",
    "    pt.set_timeseries_labels(results_att_list['i_intf_0'], 'i_intf - S_2, linear')\n",
    "    pt.plot_timeseries('Co-simulation results - i_intf - linear', results_att_list['i_intf_0'], '-.')\n",
    "\n",
    "    pt.set_timeseries_labels(results_att_list['i_ref_0'], 'i_ref - S_2, linear')\n",
    "    # pt.plot_timeseries('Co-simulation results - i_intf - linear', results_att_list['i_ref_0'], ':')\n",
    "\n",
    "plt.xlabel('t [s]')\n",
    "plt.ylabel('Interface current')\n",
    "plt.grid()\n",
    "plt.show()"
   ]
  },
  {
   "cell_type": "code",
   "execution_count": null,
   "metadata": {},
   "outputs": [],
   "source": [
    "!cat logs/EMTCosim.log"
   ]
  }
 ],
 "metadata": {
  "kernelspec": {
   "display_name": "Python 3",
   "language": "python",
   "name": "python3"
  },
  "language_info": {
   "codemirror_mode": {
    "name": "ipython",
    "version": 3
   },
   "file_extension": ".py",
   "mimetype": "text/x-python",
   "name": "python",
   "nbconvert_exporter": "python",
   "pygments_lexer": "ipython3",
   "version": "3.9.13"
  }
 },
 "nbformat": 4,
 "nbformat_minor": 4
}
